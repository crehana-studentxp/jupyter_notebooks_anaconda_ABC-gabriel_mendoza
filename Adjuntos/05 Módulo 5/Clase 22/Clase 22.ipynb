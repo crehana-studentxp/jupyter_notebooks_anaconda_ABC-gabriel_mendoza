{
 "cells": [
  {
   "cell_type": "markdown",
   "metadata": {},
   "source": [
    "# Gráfico de Pie"
   ]
  },
  {
   "cell_type": "markdown",
   "metadata": {},
   "source": [
    "### Importamos la base"
   ]
  },
  {
   "cell_type": "code",
   "execution_count": 15,
   "metadata": {},
   "outputs": [],
   "source": [
    "import pandas as pd\n",
    "import numpy as np"
   ]
  },
  {
   "cell_type": "code",
   "execution_count": 16,
   "metadata": {},
   "outputs": [],
   "source": [
    "path='C:\\\\Users\\\\Gabo\\\\Documents\\\\Gabriel Mendoza\\\\Business\\\\Crehana\\\\El ABC de Jupyter Notebook y Anaconda\\\\Material\\\\04 Módulo 4\\\\Clase 17\\\\Facturación.xlsx'"
   ]
  },
  {
   "cell_type": "code",
   "execution_count": 17,
   "metadata": {},
   "outputs": [],
   "source": [
    "df=pd.read_excel(path)"
   ]
  },
  {
   "cell_type": "code",
   "execution_count": 18,
   "metadata": {},
   "outputs": [
    {
     "data": {
      "text/html": [
       "<div>\n",
       "<style scoped>\n",
       "    .dataframe tbody tr th:only-of-type {\n",
       "        vertical-align: middle;\n",
       "    }\n",
       "\n",
       "    .dataframe tbody tr th {\n",
       "        vertical-align: top;\n",
       "    }\n",
       "\n",
       "    .dataframe thead th {\n",
       "        text-align: right;\n",
       "    }\n",
       "</style>\n",
       "<table border=\"1\" class=\"dataframe\">\n",
       "  <thead>\n",
       "    <tr style=\"text-align: right;\">\n",
       "      <th></th>\n",
       "      <th>Factura</th>\n",
       "      <th>Fecha de Emision</th>\n",
       "      <th>Fecha de Pago</th>\n",
       "      <th>No. cliente</th>\n",
       "      <th>Cliente</th>\n",
       "      <th>Vendedor</th>\n",
       "      <th>Costo</th>\n",
       "      <th>Importe Factura</th>\n",
       "      <th>Importe Pagado</th>\n",
       "      <th>% Comision Vendedor</th>\n",
       "    </tr>\n",
       "  </thead>\n",
       "  <tbody>\n",
       "    <tr>\n",
       "      <th>0</th>\n",
       "      <td>FACT2000</td>\n",
       "      <td>2020-01-06</td>\n",
       "      <td>2020-01-30</td>\n",
       "      <td>208</td>\n",
       "      <td>CC208208208</td>\n",
       "      <td>Juan</td>\n",
       "      <td>163.087778</td>\n",
       "      <td>220.705333</td>\n",
       "      <td>218.825386</td>\n",
       "      <td>0.0225</td>\n",
       "    </tr>\n",
       "    <tr>\n",
       "      <th>1</th>\n",
       "      <td>FACT2001</td>\n",
       "      <td>2020-01-07</td>\n",
       "      <td>2020-02-19</td>\n",
       "      <td>45</td>\n",
       "      <td>CC454545</td>\n",
       "      <td>Juan</td>\n",
       "      <td>947.945333</td>\n",
       "      <td>1181.498667</td>\n",
       "      <td>1166.952107</td>\n",
       "      <td>0.0150</td>\n",
       "    </tr>\n",
       "    <tr>\n",
       "      <th>2</th>\n",
       "      <td>FACT2002</td>\n",
       "      <td>2020-01-08</td>\n",
       "      <td>2020-02-17</td>\n",
       "      <td>268</td>\n",
       "      <td>CC268268268</td>\n",
       "      <td>Juan</td>\n",
       "      <td>4.201185</td>\n",
       "      <td>13.438222</td>\n",
       "      <td>12.766284</td>\n",
       "      <td>0.0225</td>\n",
       "    </tr>\n",
       "    <tr>\n",
       "      <th>3</th>\n",
       "      <td>FACT2003</td>\n",
       "      <td>2020-01-08</td>\n",
       "      <td>2020-02-07</td>\n",
       "      <td>157</td>\n",
       "      <td>CC157157157</td>\n",
       "      <td>Juan</td>\n",
       "      <td>86.481778</td>\n",
       "      <td>99.466667</td>\n",
       "      <td>99.466667</td>\n",
       "      <td>0.0125</td>\n",
       "    </tr>\n",
       "    <tr>\n",
       "      <th>4</th>\n",
       "      <td>FACT2004</td>\n",
       "      <td>2020-01-09</td>\n",
       "      <td>NaT</td>\n",
       "      <td>157</td>\n",
       "      <td>CC157157157</td>\n",
       "      <td>Juan</td>\n",
       "      <td>32.000000</td>\n",
       "      <td>38.666667</td>\n",
       "      <td>NaN</td>\n",
       "      <td>0.0000</td>\n",
       "    </tr>\n",
       "    <tr>\n",
       "      <th>...</th>\n",
       "      <td>...</td>\n",
       "      <td>...</td>\n",
       "      <td>...</td>\n",
       "      <td>...</td>\n",
       "      <td>...</td>\n",
       "      <td>...</td>\n",
       "      <td>...</td>\n",
       "      <td>...</td>\n",
       "      <td>...</td>\n",
       "      <td>...</td>\n",
       "    </tr>\n",
       "    <tr>\n",
       "      <th>504</th>\n",
       "      <td>FACT2550</td>\n",
       "      <td>2020-06-05</td>\n",
       "      <td>2020-06-02</td>\n",
       "      <td>159</td>\n",
       "      <td>CC159159159</td>\n",
       "      <td>Bety</td>\n",
       "      <td>276.158222</td>\n",
       "      <td>406.222222</td>\n",
       "      <td>406.222222</td>\n",
       "      <td>0.0225</td>\n",
       "    </tr>\n",
       "    <tr>\n",
       "      <th>505</th>\n",
       "      <td>FACT2551</td>\n",
       "      <td>2020-06-12</td>\n",
       "      <td>2020-06-15</td>\n",
       "      <td>176</td>\n",
       "      <td>CC176176176</td>\n",
       "      <td>Bety</td>\n",
       "      <td>1138.454179</td>\n",
       "      <td>1560.793778</td>\n",
       "      <td>1554.495120</td>\n",
       "      <td>0.0225</td>\n",
       "    </tr>\n",
       "    <tr>\n",
       "      <th>506</th>\n",
       "      <td>FACT2552</td>\n",
       "      <td>2020-06-18</td>\n",
       "      <td>2020-06-22</td>\n",
       "      <td>305</td>\n",
       "      <td>CC305305305</td>\n",
       "      <td>Bety</td>\n",
       "      <td>360.347111</td>\n",
       "      <td>409.920889</td>\n",
       "      <td>416.392000</td>\n",
       "      <td>0.0100</td>\n",
       "    </tr>\n",
       "    <tr>\n",
       "      <th>507</th>\n",
       "      <td>FACT2553</td>\n",
       "      <td>2020-06-19</td>\n",
       "      <td>2020-06-18</td>\n",
       "      <td>305</td>\n",
       "      <td>CC305305305</td>\n",
       "      <td>Bety</td>\n",
       "      <td>382.431461</td>\n",
       "      <td>453.180889</td>\n",
       "      <td>223.278073</td>\n",
       "      <td>0.0125</td>\n",
       "    </tr>\n",
       "    <tr>\n",
       "      <th>508</th>\n",
       "      <td>FACT2554</td>\n",
       "      <td>2020-06-30</td>\n",
       "      <td>2020-06-29</td>\n",
       "      <td>209</td>\n",
       "      <td>CC209209209</td>\n",
       "      <td>Bety</td>\n",
       "      <td>85.551111</td>\n",
       "      <td>539.758222</td>\n",
       "      <td>536.001667</td>\n",
       "      <td>0.0225</td>\n",
       "    </tr>\n",
       "  </tbody>\n",
       "</table>\n",
       "<p>509 rows × 10 columns</p>\n",
       "</div>"
      ],
      "text/plain": [
       "      Factura Fecha de Emision Fecha de Pago  No. cliente      Cliente  \\\n",
       "0    FACT2000       2020-01-06    2020-01-30          208  CC208208208   \n",
       "1    FACT2001       2020-01-07    2020-02-19           45     CC454545   \n",
       "2    FACT2002       2020-01-08    2020-02-17          268  CC268268268   \n",
       "3    FACT2003       2020-01-08    2020-02-07          157  CC157157157   \n",
       "4    FACT2004       2020-01-09           NaT          157  CC157157157   \n",
       "..        ...              ...           ...          ...          ...   \n",
       "504  FACT2550       2020-06-05    2020-06-02          159  CC159159159   \n",
       "505  FACT2551       2020-06-12    2020-06-15          176  CC176176176   \n",
       "506  FACT2552       2020-06-18    2020-06-22          305  CC305305305   \n",
       "507  FACT2553       2020-06-19    2020-06-18          305  CC305305305   \n",
       "508  FACT2554       2020-06-30    2020-06-29          209  CC209209209   \n",
       "\n",
       "    Vendedor        Costo  Importe Factura  Importe Pagado  \\\n",
       "0       Juan   163.087778       220.705333      218.825386   \n",
       "1       Juan   947.945333      1181.498667     1166.952107   \n",
       "2       Juan     4.201185        13.438222       12.766284   \n",
       "3       Juan    86.481778        99.466667       99.466667   \n",
       "4       Juan    32.000000        38.666667             NaN   \n",
       "..       ...          ...              ...             ...   \n",
       "504     Bety   276.158222       406.222222      406.222222   \n",
       "505     Bety  1138.454179      1560.793778     1554.495120   \n",
       "506     Bety   360.347111       409.920889      416.392000   \n",
       "507     Bety   382.431461       453.180889      223.278073   \n",
       "508     Bety    85.551111       539.758222      536.001667   \n",
       "\n",
       "     % Comision Vendedor  \n",
       "0                 0.0225  \n",
       "1                 0.0150  \n",
       "2                 0.0225  \n",
       "3                 0.0125  \n",
       "4                 0.0000  \n",
       "..                   ...  \n",
       "504               0.0225  \n",
       "505               0.0225  \n",
       "506               0.0100  \n",
       "507               0.0125  \n",
       "508               0.0225  \n",
       "\n",
       "[509 rows x 10 columns]"
      ]
     },
     "execution_count": 18,
     "metadata": {},
     "output_type": "execute_result"
    }
   ],
   "source": [
    "df"
   ]
  },
  {
   "cell_type": "markdown",
   "metadata": {},
   "source": [
    "#### Objetivo: graficar el porcentaje que aportan cada uno de los vendedores a la facturación"
   ]
  },
  {
   "cell_type": "markdown",
   "metadata": {},
   "source": [
    "### Primero se prepara la base de datos"
   ]
  },
  {
   "cell_type": "code",
   "execution_count": 19,
   "metadata": {},
   "outputs": [
    {
     "data": {
      "text/html": [
       "<div>\n",
       "<style scoped>\n",
       "    .dataframe tbody tr th:only-of-type {\n",
       "        vertical-align: middle;\n",
       "    }\n",
       "\n",
       "    .dataframe tbody tr th {\n",
       "        vertical-align: top;\n",
       "    }\n",
       "\n",
       "    .dataframe thead th {\n",
       "        text-align: right;\n",
       "    }\n",
       "</style>\n",
       "<table border=\"1\" class=\"dataframe\">\n",
       "  <thead>\n",
       "    <tr style=\"text-align: right;\">\n",
       "      <th></th>\n",
       "      <th>Vendedor</th>\n",
       "      <th>Importe Factura</th>\n",
       "    </tr>\n",
       "  </thead>\n",
       "  <tbody>\n",
       "    <tr>\n",
       "      <th>0</th>\n",
       "      <td>Juan</td>\n",
       "      <td>220.705333</td>\n",
       "    </tr>\n",
       "    <tr>\n",
       "      <th>1</th>\n",
       "      <td>Juan</td>\n",
       "      <td>1181.498667</td>\n",
       "    </tr>\n",
       "    <tr>\n",
       "      <th>2</th>\n",
       "      <td>Juan</td>\n",
       "      <td>13.438222</td>\n",
       "    </tr>\n",
       "    <tr>\n",
       "      <th>3</th>\n",
       "      <td>Juan</td>\n",
       "      <td>99.466667</td>\n",
       "    </tr>\n",
       "    <tr>\n",
       "      <th>4</th>\n",
       "      <td>Juan</td>\n",
       "      <td>38.666667</td>\n",
       "    </tr>\n",
       "    <tr>\n",
       "      <th>...</th>\n",
       "      <td>...</td>\n",
       "      <td>...</td>\n",
       "    </tr>\n",
       "    <tr>\n",
       "      <th>504</th>\n",
       "      <td>Bety</td>\n",
       "      <td>406.222222</td>\n",
       "    </tr>\n",
       "    <tr>\n",
       "      <th>505</th>\n",
       "      <td>Bety</td>\n",
       "      <td>1560.793778</td>\n",
       "    </tr>\n",
       "    <tr>\n",
       "      <th>506</th>\n",
       "      <td>Bety</td>\n",
       "      <td>409.920889</td>\n",
       "    </tr>\n",
       "    <tr>\n",
       "      <th>507</th>\n",
       "      <td>Bety</td>\n",
       "      <td>453.180889</td>\n",
       "    </tr>\n",
       "    <tr>\n",
       "      <th>508</th>\n",
       "      <td>Bety</td>\n",
       "      <td>539.758222</td>\n",
       "    </tr>\n",
       "  </tbody>\n",
       "</table>\n",
       "<p>509 rows × 2 columns</p>\n",
       "</div>"
      ],
      "text/plain": [
       "    Vendedor  Importe Factura\n",
       "0       Juan       220.705333\n",
       "1       Juan      1181.498667\n",
       "2       Juan        13.438222\n",
       "3       Juan        99.466667\n",
       "4       Juan        38.666667\n",
       "..       ...              ...\n",
       "504     Bety       406.222222\n",
       "505     Bety      1560.793778\n",
       "506     Bety       409.920889\n",
       "507     Bety       453.180889\n",
       "508     Bety       539.758222\n",
       "\n",
       "[509 rows x 2 columns]"
      ]
     },
     "execution_count": 19,
     "metadata": {},
     "output_type": "execute_result"
    }
   ],
   "source": [
    "#Agrupamos por vendedor\n",
    "df=df[['Vendedor','Importe Factura']]\n",
    "df"
   ]
  },
  {
   "cell_type": "code",
   "execution_count": 20,
   "metadata": {},
   "outputs": [
    {
     "data": {
      "text/html": [
       "<div>\n",
       "<style scoped>\n",
       "    .dataframe tbody tr th:only-of-type {\n",
       "        vertical-align: middle;\n",
       "    }\n",
       "\n",
       "    .dataframe tbody tr th {\n",
       "        vertical-align: top;\n",
       "    }\n",
       "\n",
       "    .dataframe thead th {\n",
       "        text-align: right;\n",
       "    }\n",
       "</style>\n",
       "<table border=\"1\" class=\"dataframe\">\n",
       "  <thead>\n",
       "    <tr style=\"text-align: right;\">\n",
       "      <th></th>\n",
       "      <th>Vendedor</th>\n",
       "      <th>Importe Factura</th>\n",
       "    </tr>\n",
       "  </thead>\n",
       "  <tbody>\n",
       "    <tr>\n",
       "      <th>0</th>\n",
       "      <td>Bety</td>\n",
       "      <td>54789.285778</td>\n",
       "    </tr>\n",
       "    <tr>\n",
       "      <th>1</th>\n",
       "      <td>Claudia</td>\n",
       "      <td>117386.126667</td>\n",
       "    </tr>\n",
       "    <tr>\n",
       "      <th>2</th>\n",
       "      <td>Juan</td>\n",
       "      <td>65981.051111</td>\n",
       "    </tr>\n",
       "  </tbody>\n",
       "</table>\n",
       "</div>"
      ],
      "text/plain": [
       "  Vendedor  Importe Factura\n",
       "0     Bety     54789.285778\n",
       "1  Claudia    117386.126667\n",
       "2     Juan     65981.051111"
      ]
     },
     "execution_count": 20,
     "metadata": {},
     "output_type": "execute_result"
    }
   ],
   "source": [
    "df=df.groupby('Vendedor',as_index=False)['Importe Factura'].sum()\n",
    "df"
   ]
  },
  {
   "cell_type": "markdown",
   "metadata": {},
   "source": [
    "### Gráfico de Pie"
   ]
  },
  {
   "cell_type": "code",
   "execution_count": 21,
   "metadata": {},
   "outputs": [],
   "source": [
    "%matplotlib inline \n",
    "\n",
    "import matplotlib as mpl\n",
    "import matplotlib.pyplot as plt"
   ]
  },
  {
   "cell_type": "code",
   "execution_count": 22,
   "metadata": {},
   "outputs": [
    {
     "data": {
      "image/png": "[encoded data removed]",
      "text/plain": [
       "<Figure size 360x432 with 1 Axes>"
      ]
     },
     "metadata": {},
     "output_type": "display_data"
    }
   ],
   "source": [
    "df['Importe Factura'].plot(kind='pie',\n",
    "                            figsize=(5, 6),\n",
    "                            autopct='%1.1f%%', # agregamos los porcentajes\n",
    "                            startangle=90)     # indicamos dónde queremos el ángulo de la gráfica\n",
    "                    \n",
    "\n",
    "plt.title('Porcentaje de venta por vendedor')\n",
    "plt.axis('equal') # Genera una gráfica con estilo circular.\n",
    "\n",
    "plt.show()"
   ]
  },
  {
   "cell_type": "code",
   "execution_count": 23,
   "metadata": {},
   "outputs": [],
   "source": [
    "#Agregamos el índice\n",
    "df.set_index('Vendedor',inplace=True)"
   ]
  },
  {
   "cell_type": "code",
   "execution_count": 24,
   "metadata": {},
   "outputs": [
    {
     "data": {
      "image/png": "[encoded data removed]",
      "text/plain": [
       "<Figure size 360x432 with 1 Axes>"
      ]
     },
     "metadata": {},
     "output_type": "display_data"
    }
   ],
   "source": [
    "df['Importe Factura'].plot(kind='pie',\n",
    "        figsize=(5, 6),\n",
    "        autopct='%1.1f%%', # agregamos los porcentajes\n",
    "        startangle=90)     # indicamos dónde queremos el ángulo de la gráfica\n",
    "                    \n",
    "\n",
    "plt.title('Porcentaje de venta por vendedor')\n",
    "plt.axis('equal') # Genera una gráfica con estilo circular.\n",
    "\n",
    "plt.show()"
   ]
  },
  {
   "cell_type": "code",
   "execution_count": null,
   "metadata": {},
   "outputs": [],
   "source": []
  }
 ],
 "metadata": {
  "kernelspec": {
   "display_name": "Python 3",
   "language": "python",
   "name": "python3"
  },
  "language_info": {
   "codemirror_mode": {
    "name": "ipython",
    "version": 3
   },
   "file_extension": ".py",
   "mimetype": "text/x-python",
   "name": "python",
   "nbconvert_exporter": "python",
   "pygments_lexer": "ipython3",
   "version": "3.8.5"
  }
 },
 "nbformat": 4,
 "nbformat_minor": 4
}
