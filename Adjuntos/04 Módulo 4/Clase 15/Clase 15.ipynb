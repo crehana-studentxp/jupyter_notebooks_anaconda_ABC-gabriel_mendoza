{
 "cells": [
  {
   "cell_type": "markdown",
   "metadata": {},
   "source": [
    "# Columnas"
   ]
  },
  {
   "cell_type": "code",
   "execution_count": 1,
   "metadata": {},
   "outputs": [],
   "source": [
    "import pandas as pd"
   ]
  },
  {
   "cell_type": "code",
   "execution_count": 23,
   "metadata": {},
   "outputs": [],
   "source": [
    "empresas= {'Empresas':['Empresa A','Empresa B','Empresa C','Empresa D'],\n",
    "            'Ventas':[1500000,2000000,1234000,100000],\n",
    "            'Costos':[600000,543678,235453,21464],\n",
    "            'Ciudad':['Buenos Aires','Los Angeles','México','Miami'],\n",
    "            'Piezas':[500,1234,6542,2344]}"
   ]
  },
  {
   "cell_type": "code",
   "execution_count": 24,
   "metadata": {},
   "outputs": [
    {
     "data": {
      "text/html": [
       "<div>\n",
       "<style scoped>\n",
       "    .dataframe tbody tr th:only-of-type {\n",
       "        vertical-align: middle;\n",
       "    }\n",
       "\n",
       "    .dataframe tbody tr th {\n",
       "        vertical-align: top;\n",
       "    }\n",
       "\n",
       "    .dataframe thead th {\n",
       "        text-align: right;\n",
       "    }\n",
       "</style>\n",
       "<table border=\"1\" class=\"dataframe\">\n",
       "  <thead>\n",
       "    <tr style=\"text-align: right;\">\n",
       "      <th></th>\n",
       "      <th>Empresas</th>\n",
       "      <th>Ventas</th>\n",
       "      <th>Costos</th>\n",
       "      <th>Ciudad</th>\n",
       "      <th>Piezas</th>\n",
       "    </tr>\n",
       "  </thead>\n",
       "  <tbody>\n",
       "    <tr>\n",
       "      <th>0</th>\n",
       "      <td>Empresa A</td>\n",
       "      <td>1500000</td>\n",
       "      <td>600000</td>\n",
       "      <td>Buenos Aires</td>\n",
       "      <td>500</td>\n",
       "    </tr>\n",
       "    <tr>\n",
       "      <th>1</th>\n",
       "      <td>Empresa B</td>\n",
       "      <td>2000000</td>\n",
       "      <td>543678</td>\n",
       "      <td>Los Angeles</td>\n",
       "      <td>1234</td>\n",
       "    </tr>\n",
       "    <tr>\n",
       "      <th>2</th>\n",
       "      <td>Empresa C</td>\n",
       "      <td>1234000</td>\n",
       "      <td>235453</td>\n",
       "      <td>México</td>\n",
       "      <td>6542</td>\n",
       "    </tr>\n",
       "    <tr>\n",
       "      <th>3</th>\n",
       "      <td>Empresa D</td>\n",
       "      <td>100000</td>\n",
       "      <td>21464</td>\n",
       "      <td>Miami</td>\n",
       "      <td>2344</td>\n",
       "    </tr>\n",
       "  </tbody>\n",
       "</table>\n",
       "</div>"
      ],
      "text/plain": [
       "    Empresas   Ventas  Costos        Ciudad  Piezas\n",
       "0  Empresa A  1500000  600000  Buenos Aires     500\n",
       "1  Empresa B  2000000  543678   Los Angeles    1234\n",
       "2  Empresa C  1234000  235453        México    6542\n",
       "3  Empresa D   100000   21464         Miami    2344"
      ]
     },
     "execution_count": 24,
     "metadata": {},
     "output_type": "execute_result"
    }
   ],
   "source": [
    "df=pd.DataFrame(empresas)\n",
    "df"
   ]
  },
  {
   "cell_type": "code",
   "execution_count": 25,
   "metadata": {},
   "outputs": [
    {
     "data": {
      "text/plain": [
       "Index(['Empresas', 'Ventas', 'Costos', 'Ciudad', 'Piezas'], dtype='object')"
      ]
     },
     "execution_count": 25,
     "metadata": {},
     "output_type": "execute_result"
    }
   ],
   "source": [
    "df.columns"
   ]
  },
  {
   "cell_type": "code",
   "execution_count": 26,
   "metadata": {},
   "outputs": [
    {
     "data": {
      "text/plain": [
       "0    Empresa A\n",
       "1    Empresa B\n",
       "2    Empresa C\n",
       "3    Empresa D\n",
       "Name: Empresas, dtype: object"
      ]
     },
     "execution_count": 26,
     "metadata": {},
     "output_type": "execute_result"
    }
   ],
   "source": [
    "# Eligiendo columnas\n",
    "df['Empresas']"
   ]
  },
  {
   "cell_type": "code",
   "execution_count": 27,
   "metadata": {},
   "outputs": [
    {
     "data": {
      "text/html": [
       "<div>\n",
       "<style scoped>\n",
       "    .dataframe tbody tr th:only-of-type {\n",
       "        vertical-align: middle;\n",
       "    }\n",
       "\n",
       "    .dataframe tbody tr th {\n",
       "        vertical-align: top;\n",
       "    }\n",
       "\n",
       "    .dataframe thead th {\n",
       "        text-align: right;\n",
       "    }\n",
       "</style>\n",
       "<table border=\"1\" class=\"dataframe\">\n",
       "  <thead>\n",
       "    <tr style=\"text-align: right;\">\n",
       "      <th></th>\n",
       "      <th>Empresas</th>\n",
       "      <th>Ventas</th>\n",
       "    </tr>\n",
       "  </thead>\n",
       "  <tbody>\n",
       "    <tr>\n",
       "      <th>0</th>\n",
       "      <td>Empresa A</td>\n",
       "      <td>1500000</td>\n",
       "    </tr>\n",
       "    <tr>\n",
       "      <th>1</th>\n",
       "      <td>Empresa B</td>\n",
       "      <td>2000000</td>\n",
       "    </tr>\n",
       "    <tr>\n",
       "      <th>2</th>\n",
       "      <td>Empresa C</td>\n",
       "      <td>1234000</td>\n",
       "    </tr>\n",
       "    <tr>\n",
       "      <th>3</th>\n",
       "      <td>Empresa D</td>\n",
       "      <td>100000</td>\n",
       "    </tr>\n",
       "  </tbody>\n",
       "</table>\n",
       "</div>"
      ],
      "text/plain": [
       "    Empresas   Ventas\n",
       "0  Empresa A  1500000\n",
       "1  Empresa B  2000000\n",
       "2  Empresa C  1234000\n",
       "3  Empresa D   100000"
      ]
     },
     "execution_count": 27,
     "metadata": {},
     "output_type": "execute_result"
    }
   ],
   "source": [
    "df[['Empresas','Ventas']]"
   ]
  },
  {
   "cell_type": "markdown",
   "metadata": {},
   "source": [
    "### iloc"
   ]
  },
  {
   "cell_type": "code",
   "execution_count": 28,
   "metadata": {},
   "outputs": [
    {
     "data": {
      "text/plain": [
       "0    Empresa A\n",
       "1    Empresa B\n",
       "2    Empresa C\n",
       "3    Empresa D\n",
       "Name: Empresas, dtype: object"
      ]
     },
     "execution_count": 28,
     "metadata": {},
     "output_type": "execute_result"
    }
   ],
   "source": [
    "df.iloc[:,0]"
   ]
  },
  {
   "cell_type": "code",
   "execution_count": 29,
   "metadata": {},
   "outputs": [
    {
     "data": {
      "text/plain": [
       "0    600000\n",
       "1    543678\n",
       "2    235453\n",
       "3     21464\n",
       "Name: Costos, dtype: int64"
      ]
     },
     "execution_count": 29,
     "metadata": {},
     "output_type": "execute_result"
    }
   ],
   "source": [
    "df.iloc[:,2]"
   ]
  },
  {
   "cell_type": "code",
   "execution_count": 30,
   "metadata": {},
   "outputs": [
    {
     "data": {
      "text/html": [
       "<div>\n",
       "<style scoped>\n",
       "    .dataframe tbody tr th:only-of-type {\n",
       "        vertical-align: middle;\n",
       "    }\n",
       "\n",
       "    .dataframe tbody tr th {\n",
       "        vertical-align: top;\n",
       "    }\n",
       "\n",
       "    .dataframe thead th {\n",
       "        text-align: right;\n",
       "    }\n",
       "</style>\n",
       "<table border=\"1\" class=\"dataframe\">\n",
       "  <thead>\n",
       "    <tr style=\"text-align: right;\">\n",
       "      <th></th>\n",
       "      <th>Empresas</th>\n",
       "      <th>Ventas</th>\n",
       "      <th>Costos</th>\n",
       "      <th>Ciudad</th>\n",
       "      <th>Piezas</th>\n",
       "    </tr>\n",
       "  </thead>\n",
       "  <tbody>\n",
       "    <tr>\n",
       "      <th>0</th>\n",
       "      <td>Empresa A</td>\n",
       "      <td>1500000</td>\n",
       "      <td>600000</td>\n",
       "      <td>Buenos Aires</td>\n",
       "      <td>500</td>\n",
       "    </tr>\n",
       "    <tr>\n",
       "      <th>1</th>\n",
       "      <td>Empresa B</td>\n",
       "      <td>2000000</td>\n",
       "      <td>543678</td>\n",
       "      <td>Los Angeles</td>\n",
       "      <td>1234</td>\n",
       "    </tr>\n",
       "    <tr>\n",
       "      <th>2</th>\n",
       "      <td>Empresa C</td>\n",
       "      <td>1234000</td>\n",
       "      <td>235453</td>\n",
       "      <td>México</td>\n",
       "      <td>6542</td>\n",
       "    </tr>\n",
       "    <tr>\n",
       "      <th>3</th>\n",
       "      <td>Empresa D</td>\n",
       "      <td>100000</td>\n",
       "      <td>21464</td>\n",
       "      <td>Miami</td>\n",
       "      <td>2344</td>\n",
       "    </tr>\n",
       "  </tbody>\n",
       "</table>\n",
       "</div>"
      ],
      "text/plain": [
       "    Empresas   Ventas  Costos        Ciudad  Piezas\n",
       "0  Empresa A  1500000  600000  Buenos Aires     500\n",
       "1  Empresa B  2000000  543678   Los Angeles    1234\n",
       "2  Empresa C  1234000  235453        México    6542\n",
       "3  Empresa D   100000   21464         Miami    2344"
      ]
     },
     "execution_count": 30,
     "metadata": {},
     "output_type": "execute_result"
    }
   ],
   "source": [
    "df.iloc[:,:]"
   ]
  },
  {
   "cell_type": "code",
   "execution_count": 31,
   "metadata": {},
   "outputs": [
    {
     "data": {
      "text/html": [
       "<div>\n",
       "<style scoped>\n",
       "    .dataframe tbody tr th:only-of-type {\n",
       "        vertical-align: middle;\n",
       "    }\n",
       "\n",
       "    .dataframe tbody tr th {\n",
       "        vertical-align: top;\n",
       "    }\n",
       "\n",
       "    .dataframe thead th {\n",
       "        text-align: right;\n",
       "    }\n",
       "</style>\n",
       "<table border=\"1\" class=\"dataframe\">\n",
       "  <thead>\n",
       "    <tr style=\"text-align: right;\">\n",
       "      <th></th>\n",
       "      <th>Empresas</th>\n",
       "      <th>Ciudad</th>\n",
       "      <th>Piezas</th>\n",
       "    </tr>\n",
       "  </thead>\n",
       "  <tbody>\n",
       "    <tr>\n",
       "      <th>0</th>\n",
       "      <td>Empresa A</td>\n",
       "      <td>Buenos Aires</td>\n",
       "      <td>500</td>\n",
       "    </tr>\n",
       "    <tr>\n",
       "      <th>1</th>\n",
       "      <td>Empresa B</td>\n",
       "      <td>Los Angeles</td>\n",
       "      <td>1234</td>\n",
       "    </tr>\n",
       "    <tr>\n",
       "      <th>2</th>\n",
       "      <td>Empresa C</td>\n",
       "      <td>México</td>\n",
       "      <td>6542</td>\n",
       "    </tr>\n",
       "    <tr>\n",
       "      <th>3</th>\n",
       "      <td>Empresa D</td>\n",
       "      <td>Miami</td>\n",
       "      <td>2344</td>\n",
       "    </tr>\n",
       "  </tbody>\n",
       "</table>\n",
       "</div>"
      ],
      "text/plain": [
       "    Empresas        Ciudad  Piezas\n",
       "0  Empresa A  Buenos Aires     500\n",
       "1  Empresa B   Los Angeles    1234\n",
       "2  Empresa C        México    6542\n",
       "3  Empresa D         Miami    2344"
      ]
     },
     "execution_count": 31,
     "metadata": {},
     "output_type": "execute_result"
    }
   ],
   "source": [
    "df.iloc[:,[0,3,4]]"
   ]
  },
  {
   "cell_type": "markdown",
   "metadata": {},
   "source": [
    "### loc"
   ]
  },
  {
   "cell_type": "code",
   "execution_count": 32,
   "metadata": {},
   "outputs": [
    {
     "data": {
      "text/html": [
       "<div>\n",
       "<style scoped>\n",
       "    .dataframe tbody tr th:only-of-type {\n",
       "        vertical-align: middle;\n",
       "    }\n",
       "\n",
       "    .dataframe tbody tr th {\n",
       "        vertical-align: top;\n",
       "    }\n",
       "\n",
       "    .dataframe thead th {\n",
       "        text-align: right;\n",
       "    }\n",
       "</style>\n",
       "<table border=\"1\" class=\"dataframe\">\n",
       "  <thead>\n",
       "    <tr style=\"text-align: right;\">\n",
       "      <th></th>\n",
       "      <th>Empresas</th>\n",
       "      <th>Ventas</th>\n",
       "    </tr>\n",
       "  </thead>\n",
       "  <tbody>\n",
       "    <tr>\n",
       "      <th>0</th>\n",
       "      <td>Empresa A</td>\n",
       "      <td>1500000</td>\n",
       "    </tr>\n",
       "    <tr>\n",
       "      <th>1</th>\n",
       "      <td>Empresa B</td>\n",
       "      <td>2000000</td>\n",
       "    </tr>\n",
       "    <tr>\n",
       "      <th>2</th>\n",
       "      <td>Empresa C</td>\n",
       "      <td>1234000</td>\n",
       "    </tr>\n",
       "    <tr>\n",
       "      <th>3</th>\n",
       "      <td>Empresa D</td>\n",
       "      <td>100000</td>\n",
       "    </tr>\n",
       "  </tbody>\n",
       "</table>\n",
       "</div>"
      ],
      "text/plain": [
       "    Empresas   Ventas\n",
       "0  Empresa A  1500000\n",
       "1  Empresa B  2000000\n",
       "2  Empresa C  1234000\n",
       "3  Empresa D   100000"
      ]
     },
     "execution_count": 32,
     "metadata": {},
     "output_type": "execute_result"
    }
   ],
   "source": [
    "df.loc[:,['Empresas','Ventas']]"
   ]
  },
  {
   "cell_type": "code",
   "execution_count": 33,
   "metadata": {},
   "outputs": [
    {
     "data": {
      "text/html": [
       "<div>\n",
       "<style scoped>\n",
       "    .dataframe tbody tr th:only-of-type {\n",
       "        vertical-align: middle;\n",
       "    }\n",
       "\n",
       "    .dataframe tbody tr th {\n",
       "        vertical-align: top;\n",
       "    }\n",
       "\n",
       "    .dataframe thead th {\n",
       "        text-align: right;\n",
       "    }\n",
       "</style>\n",
       "<table border=\"1\" class=\"dataframe\">\n",
       "  <thead>\n",
       "    <tr style=\"text-align: right;\">\n",
       "      <th></th>\n",
       "      <th>Empresas</th>\n",
       "      <th>Piezas</th>\n",
       "    </tr>\n",
       "  </thead>\n",
       "  <tbody>\n",
       "    <tr>\n",
       "      <th>0</th>\n",
       "      <td>Empresa A</td>\n",
       "      <td>500</td>\n",
       "    </tr>\n",
       "    <tr>\n",
       "      <th>1</th>\n",
       "      <td>Empresa B</td>\n",
       "      <td>1234</td>\n",
       "    </tr>\n",
       "    <tr>\n",
       "      <th>2</th>\n",
       "      <td>Empresa C</td>\n",
       "      <td>6542</td>\n",
       "    </tr>\n",
       "    <tr>\n",
       "      <th>3</th>\n",
       "      <td>Empresa D</td>\n",
       "      <td>2344</td>\n",
       "    </tr>\n",
       "  </tbody>\n",
       "</table>\n",
       "</div>"
      ],
      "text/plain": [
       "    Empresas  Piezas\n",
       "0  Empresa A     500\n",
       "1  Empresa B    1234\n",
       "2  Empresa C    6542\n",
       "3  Empresa D    2344"
      ]
     },
     "execution_count": 33,
     "metadata": {},
     "output_type": "execute_result"
    }
   ],
   "source": [
    "df.loc[:,['Empresas','Piezas']]"
   ]
  },
  {
   "cell_type": "markdown",
   "metadata": {},
   "source": [
    "### Agregar y borrar columnas"
   ]
  },
  {
   "cell_type": "code",
   "execution_count": 12,
   "metadata": {},
   "outputs": [
    {
     "data": {
      "text/html": [
       "<div>\n",
       "<style scoped>\n",
       "    .dataframe tbody tr th:only-of-type {\n",
       "        vertical-align: middle;\n",
       "    }\n",
       "\n",
       "    .dataframe tbody tr th {\n",
       "        vertical-align: top;\n",
       "    }\n",
       "\n",
       "    .dataframe thead th {\n",
       "        text-align: right;\n",
       "    }\n",
       "</style>\n",
       "<table border=\"1\" class=\"dataframe\">\n",
       "  <thead>\n",
       "    <tr style=\"text-align: right;\">\n",
       "      <th></th>\n",
       "      <th>Empresas</th>\n",
       "      <th>Ventas</th>\n",
       "      <th>Costos</th>\n",
       "      <th>Ciudad</th>\n",
       "      <th>Piezas</th>\n",
       "    </tr>\n",
       "  </thead>\n",
       "  <tbody>\n",
       "    <tr>\n",
       "      <th>0</th>\n",
       "      <td>Empresa A</td>\n",
       "      <td>1500000</td>\n",
       "      <td>600000</td>\n",
       "      <td>Buenos Aires</td>\n",
       "      <td>500</td>\n",
       "    </tr>\n",
       "    <tr>\n",
       "      <th>1</th>\n",
       "      <td>Empresa B</td>\n",
       "      <td>2000000</td>\n",
       "      <td>543678</td>\n",
       "      <td>Los Angeles</td>\n",
       "      <td>1234</td>\n",
       "    </tr>\n",
       "    <tr>\n",
       "      <th>2</th>\n",
       "      <td>Empresa C</td>\n",
       "      <td>1234000</td>\n",
       "      <td>235453</td>\n",
       "      <td>México</td>\n",
       "      <td>6542</td>\n",
       "    </tr>\n",
       "    <tr>\n",
       "      <th>3</th>\n",
       "      <td>Empresa D</td>\n",
       "      <td>100000</td>\n",
       "      <td>21464</td>\n",
       "      <td>Miami</td>\n",
       "      <td>2344</td>\n",
       "    </tr>\n",
       "  </tbody>\n",
       "</table>\n",
       "</div>"
      ],
      "text/plain": [
       "    Empresas   Ventas  Costos        Ciudad  Piezas\n",
       "0  Empresa A  1500000  600000  Buenos Aires     500\n",
       "1  Empresa B  2000000  543678   Los Angeles    1234\n",
       "2  Empresa C  1234000  235453        México    6542\n",
       "3  Empresa D   100000   21464         Miami    2344"
      ]
     },
     "execution_count": 12,
     "metadata": {},
     "output_type": "execute_result"
    }
   ],
   "source": [
    "df"
   ]
  },
  {
   "cell_type": "code",
   "execution_count": 13,
   "metadata": {},
   "outputs": [],
   "source": [
    "# Crear nueva columna\n",
    "df['Precio Promedio']=df['Ventas']/df['Piezas']"
   ]
  },
  {
   "cell_type": "code",
   "execution_count": 14,
   "metadata": {},
   "outputs": [
    {
     "data": {
      "text/html": [
       "<div>\n",
       "<style scoped>\n",
       "    .dataframe tbody tr th:only-of-type {\n",
       "        vertical-align: middle;\n",
       "    }\n",
       "\n",
       "    .dataframe tbody tr th {\n",
       "        vertical-align: top;\n",
       "    }\n",
       "\n",
       "    .dataframe thead th {\n",
       "        text-align: right;\n",
       "    }\n",
       "</style>\n",
       "<table border=\"1\" class=\"dataframe\">\n",
       "  <thead>\n",
       "    <tr style=\"text-align: right;\">\n",
       "      <th></th>\n",
       "      <th>Empresas</th>\n",
       "      <th>Ventas</th>\n",
       "      <th>Costos</th>\n",
       "      <th>Ciudad</th>\n",
       "      <th>Piezas</th>\n",
       "      <th>Precio Promedio</th>\n",
       "    </tr>\n",
       "  </thead>\n",
       "  <tbody>\n",
       "    <tr>\n",
       "      <th>0</th>\n",
       "      <td>Empresa A</td>\n",
       "      <td>1500000</td>\n",
       "      <td>600000</td>\n",
       "      <td>Buenos Aires</td>\n",
       "      <td>500</td>\n",
       "      <td>3000.000000</td>\n",
       "    </tr>\n",
       "    <tr>\n",
       "      <th>1</th>\n",
       "      <td>Empresa B</td>\n",
       "      <td>2000000</td>\n",
       "      <td>543678</td>\n",
       "      <td>Los Angeles</td>\n",
       "      <td>1234</td>\n",
       "      <td>1620.745543</td>\n",
       "    </tr>\n",
       "    <tr>\n",
       "      <th>2</th>\n",
       "      <td>Empresa C</td>\n",
       "      <td>1234000</td>\n",
       "      <td>235453</td>\n",
       "      <td>México</td>\n",
       "      <td>6542</td>\n",
       "      <td>188.627331</td>\n",
       "    </tr>\n",
       "    <tr>\n",
       "      <th>3</th>\n",
       "      <td>Empresa D</td>\n",
       "      <td>100000</td>\n",
       "      <td>21464</td>\n",
       "      <td>Miami</td>\n",
       "      <td>2344</td>\n",
       "      <td>42.662116</td>\n",
       "    </tr>\n",
       "  </tbody>\n",
       "</table>\n",
       "</div>"
      ],
      "text/plain": [
       "    Empresas   Ventas  Costos        Ciudad  Piezas  Precio Promedio\n",
       "0  Empresa A  1500000  600000  Buenos Aires     500      3000.000000\n",
       "1  Empresa B  2000000  543678   Los Angeles    1234      1620.745543\n",
       "2  Empresa C  1234000  235453        México    6542       188.627331\n",
       "3  Empresa D   100000   21464         Miami    2344        42.662116"
      ]
     },
     "execution_count": 14,
     "metadata": {},
     "output_type": "execute_result"
    }
   ],
   "source": [
    "df"
   ]
  },
  {
   "cell_type": "code",
   "execution_count": 15,
   "metadata": {},
   "outputs": [
    {
     "data": {
      "text/html": [
       "<div>\n",
       "<style scoped>\n",
       "    .dataframe tbody tr th:only-of-type {\n",
       "        vertical-align: middle;\n",
       "    }\n",
       "\n",
       "    .dataframe tbody tr th {\n",
       "        vertical-align: top;\n",
       "    }\n",
       "\n",
       "    .dataframe thead th {\n",
       "        text-align: right;\n",
       "    }\n",
       "</style>\n",
       "<table border=\"1\" class=\"dataframe\">\n",
       "  <thead>\n",
       "    <tr style=\"text-align: right;\">\n",
       "      <th></th>\n",
       "      <th>Empresas</th>\n",
       "      <th>Ventas</th>\n",
       "      <th>Costos</th>\n",
       "      <th>Ciudad</th>\n",
       "      <th>Piezas</th>\n",
       "    </tr>\n",
       "  </thead>\n",
       "  <tbody>\n",
       "    <tr>\n",
       "      <th>0</th>\n",
       "      <td>Empresa A</td>\n",
       "      <td>1500000</td>\n",
       "      <td>600000</td>\n",
       "      <td>Buenos Aires</td>\n",
       "      <td>500</td>\n",
       "    </tr>\n",
       "    <tr>\n",
       "      <th>1</th>\n",
       "      <td>Empresa B</td>\n",
       "      <td>2000000</td>\n",
       "      <td>543678</td>\n",
       "      <td>Los Angeles</td>\n",
       "      <td>1234</td>\n",
       "    </tr>\n",
       "    <tr>\n",
       "      <th>2</th>\n",
       "      <td>Empresa C</td>\n",
       "      <td>1234000</td>\n",
       "      <td>235453</td>\n",
       "      <td>México</td>\n",
       "      <td>6542</td>\n",
       "    </tr>\n",
       "    <tr>\n",
       "      <th>3</th>\n",
       "      <td>Empresa D</td>\n",
       "      <td>100000</td>\n",
       "      <td>21464</td>\n",
       "      <td>Miami</td>\n",
       "      <td>2344</td>\n",
       "    </tr>\n",
       "  </tbody>\n",
       "</table>\n",
       "</div>"
      ],
      "text/plain": [
       "    Empresas   Ventas  Costos        Ciudad  Piezas\n",
       "0  Empresa A  1500000  600000  Buenos Aires     500\n",
       "1  Empresa B  2000000  543678   Los Angeles    1234\n",
       "2  Empresa C  1234000  235453        México    6542\n",
       "3  Empresa D   100000   21464         Miami    2344"
      ]
     },
     "execution_count": 15,
     "metadata": {},
     "output_type": "execute_result"
    }
   ],
   "source": [
    "# Borrar columnas con método drop\n",
    "#axis=1 para columnas y 0 para filas\n",
    "df.drop('Precio Promedio',axis=1)"
   ]
  },
  {
   "cell_type": "code",
   "execution_count": 16,
   "metadata": {},
   "outputs": [
    {
     "data": {
      "text/html": [
       "<div>\n",
       "<style scoped>\n",
       "    .dataframe tbody tr th:only-of-type {\n",
       "        vertical-align: middle;\n",
       "    }\n",
       "\n",
       "    .dataframe tbody tr th {\n",
       "        vertical-align: top;\n",
       "    }\n",
       "\n",
       "    .dataframe thead th {\n",
       "        text-align: right;\n",
       "    }\n",
       "</style>\n",
       "<table border=\"1\" class=\"dataframe\">\n",
       "  <thead>\n",
       "    <tr style=\"text-align: right;\">\n",
       "      <th></th>\n",
       "      <th>Empresas</th>\n",
       "      <th>Ventas</th>\n",
       "      <th>Costos</th>\n",
       "      <th>Ciudad</th>\n",
       "      <th>Piezas</th>\n",
       "      <th>Precio Promedio</th>\n",
       "    </tr>\n",
       "  </thead>\n",
       "  <tbody>\n",
       "    <tr>\n",
       "      <th>0</th>\n",
       "      <td>Empresa A</td>\n",
       "      <td>1500000</td>\n",
       "      <td>600000</td>\n",
       "      <td>Buenos Aires</td>\n",
       "      <td>500</td>\n",
       "      <td>3000.000000</td>\n",
       "    </tr>\n",
       "    <tr>\n",
       "      <th>1</th>\n",
       "      <td>Empresa B</td>\n",
       "      <td>2000000</td>\n",
       "      <td>543678</td>\n",
       "      <td>Los Angeles</td>\n",
       "      <td>1234</td>\n",
       "      <td>1620.745543</td>\n",
       "    </tr>\n",
       "    <tr>\n",
       "      <th>2</th>\n",
       "      <td>Empresa C</td>\n",
       "      <td>1234000</td>\n",
       "      <td>235453</td>\n",
       "      <td>México</td>\n",
       "      <td>6542</td>\n",
       "      <td>188.627331</td>\n",
       "    </tr>\n",
       "    <tr>\n",
       "      <th>3</th>\n",
       "      <td>Empresa D</td>\n",
       "      <td>100000</td>\n",
       "      <td>21464</td>\n",
       "      <td>Miami</td>\n",
       "      <td>2344</td>\n",
       "      <td>42.662116</td>\n",
       "    </tr>\n",
       "  </tbody>\n",
       "</table>\n",
       "</div>"
      ],
      "text/plain": [
       "    Empresas   Ventas  Costos        Ciudad  Piezas  Precio Promedio\n",
       "0  Empresa A  1500000  600000  Buenos Aires     500      3000.000000\n",
       "1  Empresa B  2000000  543678   Los Angeles    1234      1620.745543\n",
       "2  Empresa C  1234000  235453        México    6542       188.627331\n",
       "3  Empresa D   100000   21464         Miami    2344        42.662116"
      ]
     },
     "execution_count": 16,
     "metadata": {},
     "output_type": "execute_result"
    }
   ],
   "source": [
    "df"
   ]
  },
  {
   "cell_type": "code",
   "execution_count": 17,
   "metadata": {},
   "outputs": [],
   "source": [
    "df.drop('Precio Promedio',axis=1, inplace=True)"
   ]
  },
  {
   "cell_type": "code",
   "execution_count": 18,
   "metadata": {},
   "outputs": [
    {
     "data": {
      "text/html": [
       "<div>\n",
       "<style scoped>\n",
       "    .dataframe tbody tr th:only-of-type {\n",
       "        vertical-align: middle;\n",
       "    }\n",
       "\n",
       "    .dataframe tbody tr th {\n",
       "        vertical-align: top;\n",
       "    }\n",
       "\n",
       "    .dataframe thead th {\n",
       "        text-align: right;\n",
       "    }\n",
       "</style>\n",
       "<table border=\"1\" class=\"dataframe\">\n",
       "  <thead>\n",
       "    <tr style=\"text-align: right;\">\n",
       "      <th></th>\n",
       "      <th>Empresas</th>\n",
       "      <th>Ventas</th>\n",
       "      <th>Costos</th>\n",
       "      <th>Ciudad</th>\n",
       "      <th>Piezas</th>\n",
       "    </tr>\n",
       "  </thead>\n",
       "  <tbody>\n",
       "    <tr>\n",
       "      <th>0</th>\n",
       "      <td>Empresa A</td>\n",
       "      <td>1500000</td>\n",
       "      <td>600000</td>\n",
       "      <td>Buenos Aires</td>\n",
       "      <td>500</td>\n",
       "    </tr>\n",
       "    <tr>\n",
       "      <th>1</th>\n",
       "      <td>Empresa B</td>\n",
       "      <td>2000000</td>\n",
       "      <td>543678</td>\n",
       "      <td>Los Angeles</td>\n",
       "      <td>1234</td>\n",
       "    </tr>\n",
       "    <tr>\n",
       "      <th>2</th>\n",
       "      <td>Empresa C</td>\n",
       "      <td>1234000</td>\n",
       "      <td>235453</td>\n",
       "      <td>México</td>\n",
       "      <td>6542</td>\n",
       "    </tr>\n",
       "    <tr>\n",
       "      <th>3</th>\n",
       "      <td>Empresa D</td>\n",
       "      <td>100000</td>\n",
       "      <td>21464</td>\n",
       "      <td>Miami</td>\n",
       "      <td>2344</td>\n",
       "    </tr>\n",
       "  </tbody>\n",
       "</table>\n",
       "</div>"
      ],
      "text/plain": [
       "    Empresas   Ventas  Costos        Ciudad  Piezas\n",
       "0  Empresa A  1500000  600000  Buenos Aires     500\n",
       "1  Empresa B  2000000  543678   Los Angeles    1234\n",
       "2  Empresa C  1234000  235453        México    6542\n",
       "3  Empresa D   100000   21464         Miami    2344"
      ]
     },
     "execution_count": 18,
     "metadata": {},
     "output_type": "execute_result"
    }
   ],
   "source": [
    "df"
   ]
  },
  {
   "cell_type": "code",
   "execution_count": 19,
   "metadata": {},
   "outputs": [],
   "source": [
    "#Manera alternativa de borrar columnas\n",
    "df=df[['Empresas','Ventas']]"
   ]
  },
  {
   "cell_type": "code",
   "execution_count": 20,
   "metadata": {},
   "outputs": [
    {
     "data": {
      "text/html": [
       "<div>\n",
       "<style scoped>\n",
       "    .dataframe tbody tr th:only-of-type {\n",
       "        vertical-align: middle;\n",
       "    }\n",
       "\n",
       "    .dataframe tbody tr th {\n",
       "        vertical-align: top;\n",
       "    }\n",
       "\n",
       "    .dataframe thead th {\n",
       "        text-align: right;\n",
       "    }\n",
       "</style>\n",
       "<table border=\"1\" class=\"dataframe\">\n",
       "  <thead>\n",
       "    <tr style=\"text-align: right;\">\n",
       "      <th></th>\n",
       "      <th>Empresas</th>\n",
       "      <th>Ventas</th>\n",
       "    </tr>\n",
       "  </thead>\n",
       "  <tbody>\n",
       "    <tr>\n",
       "      <th>0</th>\n",
       "      <td>Empresa A</td>\n",
       "      <td>1500000</td>\n",
       "    </tr>\n",
       "    <tr>\n",
       "      <th>1</th>\n",
       "      <td>Empresa B</td>\n",
       "      <td>2000000</td>\n",
       "    </tr>\n",
       "    <tr>\n",
       "      <th>2</th>\n",
       "      <td>Empresa C</td>\n",
       "      <td>1234000</td>\n",
       "    </tr>\n",
       "    <tr>\n",
       "      <th>3</th>\n",
       "      <td>Empresa D</td>\n",
       "      <td>100000</td>\n",
       "    </tr>\n",
       "  </tbody>\n",
       "</table>\n",
       "</div>"
      ],
      "text/plain": [
       "    Empresas   Ventas\n",
       "0  Empresa A  1500000\n",
       "1  Empresa B  2000000\n",
       "2  Empresa C  1234000\n",
       "3  Empresa D   100000"
      ]
     },
     "execution_count": 20,
     "metadata": {},
     "output_type": "execute_result"
    }
   ],
   "source": [
    "df"
   ]
  },
  {
   "cell_type": "markdown",
   "metadata": {},
   "source": [
    "# Filas"
   ]
  },
  {
   "cell_type": "code",
   "execution_count": 34,
   "metadata": {},
   "outputs": [],
   "source": [
    "empresas= {'Empresas':['Empresa A','Empresa B','Empresa C','Empresa D'],\n",
    "            'Ventas':[1500000,2000000,1234000,100000],\n",
    "            'Costos':[600000,543678,235453,21464],\n",
    "            'Ciudad':['Buenos Aires','Los Angeles','México','Miami'],\n",
    "            'Piezas':[500,1234,6542,2344]}"
   ]
  },
  {
   "cell_type": "code",
   "execution_count": 35,
   "metadata": {},
   "outputs": [
    {
     "data": {
      "text/html": [
       "<div>\n",
       "<style scoped>\n",
       "    .dataframe tbody tr th:only-of-type {\n",
       "        vertical-align: middle;\n",
       "    }\n",
       "\n",
       "    .dataframe tbody tr th {\n",
       "        vertical-align: top;\n",
       "    }\n",
       "\n",
       "    .dataframe thead th {\n",
       "        text-align: right;\n",
       "    }\n",
       "</style>\n",
       "<table border=\"1\" class=\"dataframe\">\n",
       "  <thead>\n",
       "    <tr style=\"text-align: right;\">\n",
       "      <th></th>\n",
       "      <th>Empresas</th>\n",
       "      <th>Ventas</th>\n",
       "      <th>Costos</th>\n",
       "      <th>Ciudad</th>\n",
       "      <th>Piezas</th>\n",
       "    </tr>\n",
       "  </thead>\n",
       "  <tbody>\n",
       "    <tr>\n",
       "      <th>0</th>\n",
       "      <td>Empresa A</td>\n",
       "      <td>1500000</td>\n",
       "      <td>600000</td>\n",
       "      <td>Buenos Aires</td>\n",
       "      <td>500</td>\n",
       "    </tr>\n",
       "    <tr>\n",
       "      <th>1</th>\n",
       "      <td>Empresa B</td>\n",
       "      <td>2000000</td>\n",
       "      <td>543678</td>\n",
       "      <td>Los Angeles</td>\n",
       "      <td>1234</td>\n",
       "    </tr>\n",
       "    <tr>\n",
       "      <th>2</th>\n",
       "      <td>Empresa C</td>\n",
       "      <td>1234000</td>\n",
       "      <td>235453</td>\n",
       "      <td>México</td>\n",
       "      <td>6542</td>\n",
       "    </tr>\n",
       "    <tr>\n",
       "      <th>3</th>\n",
       "      <td>Empresa D</td>\n",
       "      <td>100000</td>\n",
       "      <td>21464</td>\n",
       "      <td>Miami</td>\n",
       "      <td>2344</td>\n",
       "    </tr>\n",
       "  </tbody>\n",
       "</table>\n",
       "</div>"
      ],
      "text/plain": [
       "    Empresas   Ventas  Costos        Ciudad  Piezas\n",
       "0  Empresa A  1500000  600000  Buenos Aires     500\n",
       "1  Empresa B  2000000  543678   Los Angeles    1234\n",
       "2  Empresa C  1234000  235453        México    6542\n",
       "3  Empresa D   100000   21464         Miami    2344"
      ]
     },
     "execution_count": 35,
     "metadata": {},
     "output_type": "execute_result"
    }
   ],
   "source": [
    "df=pd.DataFrame(empresas)\n",
    "df"
   ]
  },
  {
   "cell_type": "code",
   "execution_count": 36,
   "metadata": {},
   "outputs": [
    {
     "data": {
      "text/html": [
       "<div>\n",
       "<style scoped>\n",
       "    .dataframe tbody tr th:only-of-type {\n",
       "        vertical-align: middle;\n",
       "    }\n",
       "\n",
       "    .dataframe tbody tr th {\n",
       "        vertical-align: top;\n",
       "    }\n",
       "\n",
       "    .dataframe thead th {\n",
       "        text-align: right;\n",
       "    }\n",
       "</style>\n",
       "<table border=\"1\" class=\"dataframe\">\n",
       "  <thead>\n",
       "    <tr style=\"text-align: right;\">\n",
       "      <th></th>\n",
       "      <th>Empresas</th>\n",
       "      <th>Ventas</th>\n",
       "      <th>Costos</th>\n",
       "      <th>Ciudad</th>\n",
       "      <th>Piezas</th>\n",
       "    </tr>\n",
       "  </thead>\n",
       "  <tbody>\n",
       "    <tr>\n",
       "      <th>0</th>\n",
       "      <td>Empresa A</td>\n",
       "      <td>1500000</td>\n",
       "      <td>600000</td>\n",
       "      <td>Buenos Aires</td>\n",
       "      <td>500</td>\n",
       "    </tr>\n",
       "    <tr>\n",
       "      <th>1</th>\n",
       "      <td>Empresa B</td>\n",
       "      <td>2000000</td>\n",
       "      <td>543678</td>\n",
       "      <td>Los Angeles</td>\n",
       "      <td>1234</td>\n",
       "    </tr>\n",
       "    <tr>\n",
       "      <th>2</th>\n",
       "      <td>Empresa C</td>\n",
       "      <td>1234000</td>\n",
       "      <td>235453</td>\n",
       "      <td>México</td>\n",
       "      <td>6542</td>\n",
       "    </tr>\n",
       "    <tr>\n",
       "      <th>3</th>\n",
       "      <td>Empresa D</td>\n",
       "      <td>100000</td>\n",
       "      <td>21464</td>\n",
       "      <td>Miami</td>\n",
       "      <td>2344</td>\n",
       "    </tr>\n",
       "  </tbody>\n",
       "</table>\n",
       "</div>"
      ],
      "text/plain": [
       "    Empresas   Ventas  Costos        Ciudad  Piezas\n",
       "0  Empresa A  1500000  600000  Buenos Aires     500\n",
       "1  Empresa B  2000000  543678   Los Angeles    1234\n",
       "2  Empresa C  1234000  235453        México    6542\n",
       "3  Empresa D   100000   21464         Miami    2344"
      ]
     },
     "execution_count": 36,
     "metadata": {},
     "output_type": "execute_result"
    }
   ],
   "source": [
    "df.iloc[:,:]"
   ]
  },
  {
   "cell_type": "code",
   "execution_count": 37,
   "metadata": {},
   "outputs": [
    {
     "data": {
      "text/html": [
       "<div>\n",
       "<style scoped>\n",
       "    .dataframe tbody tr th:only-of-type {\n",
       "        vertical-align: middle;\n",
       "    }\n",
       "\n",
       "    .dataframe tbody tr th {\n",
       "        vertical-align: top;\n",
       "    }\n",
       "\n",
       "    .dataframe thead th {\n",
       "        text-align: right;\n",
       "    }\n",
       "</style>\n",
       "<table border=\"1\" class=\"dataframe\">\n",
       "  <thead>\n",
       "    <tr style=\"text-align: right;\">\n",
       "      <th></th>\n",
       "      <th>Empresas</th>\n",
       "      <th>Ventas</th>\n",
       "      <th>Costos</th>\n",
       "      <th>Ciudad</th>\n",
       "      <th>Piezas</th>\n",
       "    </tr>\n",
       "  </thead>\n",
       "  <tbody>\n",
       "    <tr>\n",
       "      <th>0</th>\n",
       "      <td>Empresa A</td>\n",
       "      <td>1500000</td>\n",
       "      <td>600000</td>\n",
       "      <td>Buenos Aires</td>\n",
       "      <td>500</td>\n",
       "    </tr>\n",
       "    <tr>\n",
       "      <th>1</th>\n",
       "      <td>Empresa B</td>\n",
       "      <td>2000000</td>\n",
       "      <td>543678</td>\n",
       "      <td>Los Angeles</td>\n",
       "      <td>1234</td>\n",
       "    </tr>\n",
       "    <tr>\n",
       "      <th>2</th>\n",
       "      <td>Empresa C</td>\n",
       "      <td>1234000</td>\n",
       "      <td>235453</td>\n",
       "      <td>México</td>\n",
       "      <td>6542</td>\n",
       "    </tr>\n",
       "  </tbody>\n",
       "</table>\n",
       "</div>"
      ],
      "text/plain": [
       "    Empresas   Ventas  Costos        Ciudad  Piezas\n",
       "0  Empresa A  1500000  600000  Buenos Aires     500\n",
       "1  Empresa B  2000000  543678   Los Angeles    1234\n",
       "2  Empresa C  1234000  235453        México    6542"
      ]
     },
     "execution_count": 37,
     "metadata": {},
     "output_type": "execute_result"
    }
   ],
   "source": [
    "# El último número no lo toma en cuenta\n",
    "df.iloc[0:3,:]"
   ]
  },
  {
   "cell_type": "code",
   "execution_count": 38,
   "metadata": {},
   "outputs": [
    {
     "data": {
      "text/html": [
       "<div>\n",
       "<style scoped>\n",
       "    .dataframe tbody tr th:only-of-type {\n",
       "        vertical-align: middle;\n",
       "    }\n",
       "\n",
       "    .dataframe tbody tr th {\n",
       "        vertical-align: top;\n",
       "    }\n",
       "\n",
       "    .dataframe thead th {\n",
       "        text-align: right;\n",
       "    }\n",
       "</style>\n",
       "<table border=\"1\" class=\"dataframe\">\n",
       "  <thead>\n",
       "    <tr style=\"text-align: right;\">\n",
       "      <th></th>\n",
       "      <th>Empresas</th>\n",
       "      <th>Ventas</th>\n",
       "      <th>Costos</th>\n",
       "      <th>Ciudad</th>\n",
       "      <th>Piezas</th>\n",
       "    </tr>\n",
       "  </thead>\n",
       "  <tbody>\n",
       "    <tr>\n",
       "      <th>0</th>\n",
       "      <td>Empresa A</td>\n",
       "      <td>1500000</td>\n",
       "      <td>600000</td>\n",
       "      <td>Buenos Aires</td>\n",
       "      <td>500</td>\n",
       "    </tr>\n",
       "    <tr>\n",
       "      <th>1</th>\n",
       "      <td>Empresa B</td>\n",
       "      <td>2000000</td>\n",
       "      <td>543678</td>\n",
       "      <td>Los Angeles</td>\n",
       "      <td>1234</td>\n",
       "    </tr>\n",
       "  </tbody>\n",
       "</table>\n",
       "</div>"
      ],
      "text/plain": [
       "    Empresas   Ventas  Costos        Ciudad  Piezas\n",
       "0  Empresa A  1500000  600000  Buenos Aires     500\n",
       "1  Empresa B  2000000  543678   Los Angeles    1234"
      ]
     },
     "execution_count": 38,
     "metadata": {},
     "output_type": "execute_result"
    }
   ],
   "source": [
    "df.iloc[0:2,:]"
   ]
  },
  {
   "cell_type": "markdown",
   "metadata": {},
   "source": [
    "### Usando Loc"
   ]
  },
  {
   "cell_type": "code",
   "execution_count": 39,
   "metadata": {},
   "outputs": [
    {
     "data": {
      "text/html": [
       "<div>\n",
       "<style scoped>\n",
       "    .dataframe tbody tr th:only-of-type {\n",
       "        vertical-align: middle;\n",
       "    }\n",
       "\n",
       "    .dataframe tbody tr th {\n",
       "        vertical-align: top;\n",
       "    }\n",
       "\n",
       "    .dataframe thead th {\n",
       "        text-align: right;\n",
       "    }\n",
       "</style>\n",
       "<table border=\"1\" class=\"dataframe\">\n",
       "  <thead>\n",
       "    <tr style=\"text-align: right;\">\n",
       "      <th></th>\n",
       "      <th>Empresas</th>\n",
       "      <th>Ventas</th>\n",
       "      <th>Costos</th>\n",
       "      <th>Ciudad</th>\n",
       "      <th>Piezas</th>\n",
       "    </tr>\n",
       "  </thead>\n",
       "  <tbody>\n",
       "    <tr>\n",
       "      <th>0</th>\n",
       "      <td>Empresa A</td>\n",
       "      <td>1500000</td>\n",
       "      <td>600000</td>\n",
       "      <td>Buenos Aires</td>\n",
       "      <td>500</td>\n",
       "    </tr>\n",
       "    <tr>\n",
       "      <th>1</th>\n",
       "      <td>Empresa B</td>\n",
       "      <td>2000000</td>\n",
       "      <td>543678</td>\n",
       "      <td>Los Angeles</td>\n",
       "      <td>1234</td>\n",
       "    </tr>\n",
       "    <tr>\n",
       "      <th>2</th>\n",
       "      <td>Empresa C</td>\n",
       "      <td>1234000</td>\n",
       "      <td>235453</td>\n",
       "      <td>México</td>\n",
       "      <td>6542</td>\n",
       "    </tr>\n",
       "    <tr>\n",
       "      <th>3</th>\n",
       "      <td>Empresa D</td>\n",
       "      <td>100000</td>\n",
       "      <td>21464</td>\n",
       "      <td>Miami</td>\n",
       "      <td>2344</td>\n",
       "    </tr>\n",
       "  </tbody>\n",
       "</table>\n",
       "</div>"
      ],
      "text/plain": [
       "    Empresas   Ventas  Costos        Ciudad  Piezas\n",
       "0  Empresa A  1500000  600000  Buenos Aires     500\n",
       "1  Empresa B  2000000  543678   Los Angeles    1234\n",
       "2  Empresa C  1234000  235453        México    6542\n",
       "3  Empresa D   100000   21464         Miami    2344"
      ]
     },
     "execution_count": 39,
     "metadata": {},
     "output_type": "execute_result"
    }
   ],
   "source": [
    "df"
   ]
  },
  {
   "cell_type": "code",
   "execution_count": 41,
   "metadata": {},
   "outputs": [],
   "source": [
    "df.set_index(df['Empresas'],inplace=True)"
   ]
  },
  {
   "cell_type": "code",
   "execution_count": 42,
   "metadata": {},
   "outputs": [
    {
     "data": {
      "text/html": [
       "<div>\n",
       "<style scoped>\n",
       "    .dataframe tbody tr th:only-of-type {\n",
       "        vertical-align: middle;\n",
       "    }\n",
       "\n",
       "    .dataframe tbody tr th {\n",
       "        vertical-align: top;\n",
       "    }\n",
       "\n",
       "    .dataframe thead th {\n",
       "        text-align: right;\n",
       "    }\n",
       "</style>\n",
       "<table border=\"1\" class=\"dataframe\">\n",
       "  <thead>\n",
       "    <tr style=\"text-align: right;\">\n",
       "      <th></th>\n",
       "      <th>Empresas</th>\n",
       "      <th>Ventas</th>\n",
       "      <th>Costos</th>\n",
       "      <th>Ciudad</th>\n",
       "      <th>Piezas</th>\n",
       "    </tr>\n",
       "    <tr>\n",
       "      <th>Empresas</th>\n",
       "      <th></th>\n",
       "      <th></th>\n",
       "      <th></th>\n",
       "      <th></th>\n",
       "      <th></th>\n",
       "    </tr>\n",
       "  </thead>\n",
       "  <tbody>\n",
       "    <tr>\n",
       "      <th>Empresa A</th>\n",
       "      <td>Empresa A</td>\n",
       "      <td>1500000</td>\n",
       "      <td>600000</td>\n",
       "      <td>Buenos Aires</td>\n",
       "      <td>500</td>\n",
       "    </tr>\n",
       "    <tr>\n",
       "      <th>Empresa B</th>\n",
       "      <td>Empresa B</td>\n",
       "      <td>2000000</td>\n",
       "      <td>543678</td>\n",
       "      <td>Los Angeles</td>\n",
       "      <td>1234</td>\n",
       "    </tr>\n",
       "    <tr>\n",
       "      <th>Empresa C</th>\n",
       "      <td>Empresa C</td>\n",
       "      <td>1234000</td>\n",
       "      <td>235453</td>\n",
       "      <td>México</td>\n",
       "      <td>6542</td>\n",
       "    </tr>\n",
       "    <tr>\n",
       "      <th>Empresa D</th>\n",
       "      <td>Empresa D</td>\n",
       "      <td>100000</td>\n",
       "      <td>21464</td>\n",
       "      <td>Miami</td>\n",
       "      <td>2344</td>\n",
       "    </tr>\n",
       "  </tbody>\n",
       "</table>\n",
       "</div>"
      ],
      "text/plain": [
       "            Empresas   Ventas  Costos        Ciudad  Piezas\n",
       "Empresas                                                   \n",
       "Empresa A  Empresa A  1500000  600000  Buenos Aires     500\n",
       "Empresa B  Empresa B  2000000  543678   Los Angeles    1234\n",
       "Empresa C  Empresa C  1234000  235453        México    6542\n",
       "Empresa D  Empresa D   100000   21464         Miami    2344"
      ]
     },
     "execution_count": 42,
     "metadata": {},
     "output_type": "execute_result"
    }
   ],
   "source": [
    "df"
   ]
  },
  {
   "cell_type": "code",
   "execution_count": 43,
   "metadata": {},
   "outputs": [
    {
     "data": {
      "text/plain": [
       "Empresas       Empresa A\n",
       "Ventas           1500000\n",
       "Costos            600000\n",
       "Ciudad      Buenos Aires\n",
       "Piezas               500\n",
       "Name: Empresa A, dtype: object"
      ]
     },
     "execution_count": 43,
     "metadata": {},
     "output_type": "execute_result"
    }
   ],
   "source": [
    "df.loc['Empresa A',:]"
   ]
  },
  {
   "cell_type": "code",
   "execution_count": 44,
   "metadata": {},
   "outputs": [
    {
     "data": {
      "text/html": [
       "<div>\n",
       "<style scoped>\n",
       "    .dataframe tbody tr th:only-of-type {\n",
       "        vertical-align: middle;\n",
       "    }\n",
       "\n",
       "    .dataframe tbody tr th {\n",
       "        vertical-align: top;\n",
       "    }\n",
       "\n",
       "    .dataframe thead th {\n",
       "        text-align: right;\n",
       "    }\n",
       "</style>\n",
       "<table border=\"1\" class=\"dataframe\">\n",
       "  <thead>\n",
       "    <tr style=\"text-align: right;\">\n",
       "      <th></th>\n",
       "      <th>Empresas</th>\n",
       "      <th>Ventas</th>\n",
       "      <th>Costos</th>\n",
       "      <th>Ciudad</th>\n",
       "      <th>Piezas</th>\n",
       "    </tr>\n",
       "    <tr>\n",
       "      <th>Empresas</th>\n",
       "      <th></th>\n",
       "      <th></th>\n",
       "      <th></th>\n",
       "      <th></th>\n",
       "      <th></th>\n",
       "    </tr>\n",
       "  </thead>\n",
       "  <tbody>\n",
       "    <tr>\n",
       "      <th>Empresa A</th>\n",
       "      <td>Empresa A</td>\n",
       "      <td>1500000</td>\n",
       "      <td>600000</td>\n",
       "      <td>Buenos Aires</td>\n",
       "      <td>500</td>\n",
       "    </tr>\n",
       "    <tr>\n",
       "      <th>Empresa B</th>\n",
       "      <td>Empresa B</td>\n",
       "      <td>2000000</td>\n",
       "      <td>543678</td>\n",
       "      <td>Los Angeles</td>\n",
       "      <td>1234</td>\n",
       "    </tr>\n",
       "  </tbody>\n",
       "</table>\n",
       "</div>"
      ],
      "text/plain": [
       "            Empresas   Ventas  Costos        Ciudad  Piezas\n",
       "Empresas                                                   \n",
       "Empresa A  Empresa A  1500000  600000  Buenos Aires     500\n",
       "Empresa B  Empresa B  2000000  543678   Los Angeles    1234"
      ]
     },
     "execution_count": 44,
     "metadata": {},
     "output_type": "execute_result"
    }
   ],
   "source": [
    "df.loc[['Empresa A','Empresa B'],:]"
   ]
  },
  {
   "cell_type": "markdown",
   "metadata": {},
   "source": [
    "### Agregar y borrar filas"
   ]
  },
  {
   "cell_type": "code",
   "execution_count": 60,
   "metadata": {},
   "outputs": [],
   "source": [
    "import numpy as np"
   ]
  },
  {
   "cell_type": "code",
   "execution_count": 61,
   "metadata": {},
   "outputs": [],
   "source": [
    "empresas= {'Empresas':['Empresa A','Empresa B','Empresa C','Empresa D'],\n",
    "            'Ventas':[1500000,2000000,1234000,100000],\n",
    "            'Costos':[600000,543678,235453,21464],\n",
    "            'Ciudad':['Buenos Aires','Los Angeles','México',np.nan],\n",
    "            'Piezas':[500,1234,6542,np.nan]}"
   ]
  },
  {
   "cell_type": "code",
   "execution_count": 62,
   "metadata": {},
   "outputs": [
    {
     "data": {
      "text/html": [
       "<div>\n",
       "<style scoped>\n",
       "    .dataframe tbody tr th:only-of-type {\n",
       "        vertical-align: middle;\n",
       "    }\n",
       "\n",
       "    .dataframe tbody tr th {\n",
       "        vertical-align: top;\n",
       "    }\n",
       "\n",
       "    .dataframe thead th {\n",
       "        text-align: right;\n",
       "    }\n",
       "</style>\n",
       "<table border=\"1\" class=\"dataframe\">\n",
       "  <thead>\n",
       "    <tr style=\"text-align: right;\">\n",
       "      <th></th>\n",
       "      <th>Empresas</th>\n",
       "      <th>Ventas</th>\n",
       "      <th>Costos</th>\n",
       "      <th>Ciudad</th>\n",
       "      <th>Piezas</th>\n",
       "    </tr>\n",
       "  </thead>\n",
       "  <tbody>\n",
       "    <tr>\n",
       "      <th>0</th>\n",
       "      <td>Empresa A</td>\n",
       "      <td>1500000</td>\n",
       "      <td>600000</td>\n",
       "      <td>Buenos Aires</td>\n",
       "      <td>500.0</td>\n",
       "    </tr>\n",
       "    <tr>\n",
       "      <th>1</th>\n",
       "      <td>Empresa B</td>\n",
       "      <td>2000000</td>\n",
       "      <td>543678</td>\n",
       "      <td>Los Angeles</td>\n",
       "      <td>1234.0</td>\n",
       "    </tr>\n",
       "    <tr>\n",
       "      <th>2</th>\n",
       "      <td>Empresa C</td>\n",
       "      <td>1234000</td>\n",
       "      <td>235453</td>\n",
       "      <td>México</td>\n",
       "      <td>6542.0</td>\n",
       "    </tr>\n",
       "    <tr>\n",
       "      <th>3</th>\n",
       "      <td>Empresa D</td>\n",
       "      <td>100000</td>\n",
       "      <td>21464</td>\n",
       "      <td>NaN</td>\n",
       "      <td>NaN</td>\n",
       "    </tr>\n",
       "  </tbody>\n",
       "</table>\n",
       "</div>"
      ],
      "text/plain": [
       "    Empresas   Ventas  Costos        Ciudad  Piezas\n",
       "0  Empresa A  1500000  600000  Buenos Aires   500.0\n",
       "1  Empresa B  2000000  543678   Los Angeles  1234.0\n",
       "2  Empresa C  1234000  235453        México  6542.0\n",
       "3  Empresa D   100000   21464           NaN     NaN"
      ]
     },
     "execution_count": 62,
     "metadata": {},
     "output_type": "execute_result"
    }
   ],
   "source": [
    "df=pd.DataFrame(empresas)\n",
    "df"
   ]
  },
  {
   "cell_type": "code",
   "execution_count": 63,
   "metadata": {},
   "outputs": [],
   "source": [
    "#Borrar fila con Drop Method\n",
    "df=df.dropna(axis=0,how='any')"
   ]
  },
  {
   "cell_type": "code",
   "execution_count": 64,
   "metadata": {},
   "outputs": [
    {
     "data": {
      "text/html": [
       "<div>\n",
       "<style scoped>\n",
       "    .dataframe tbody tr th:only-of-type {\n",
       "        vertical-align: middle;\n",
       "    }\n",
       "\n",
       "    .dataframe tbody tr th {\n",
       "        vertical-align: top;\n",
       "    }\n",
       "\n",
       "    .dataframe thead th {\n",
       "        text-align: right;\n",
       "    }\n",
       "</style>\n",
       "<table border=\"1\" class=\"dataframe\">\n",
       "  <thead>\n",
       "    <tr style=\"text-align: right;\">\n",
       "      <th></th>\n",
       "      <th>Empresas</th>\n",
       "      <th>Ventas</th>\n",
       "      <th>Costos</th>\n",
       "      <th>Ciudad</th>\n",
       "      <th>Piezas</th>\n",
       "    </tr>\n",
       "  </thead>\n",
       "  <tbody>\n",
       "    <tr>\n",
       "      <th>0</th>\n",
       "      <td>Empresa A</td>\n",
       "      <td>1500000</td>\n",
       "      <td>600000</td>\n",
       "      <td>Buenos Aires</td>\n",
       "      <td>500.0</td>\n",
       "    </tr>\n",
       "    <tr>\n",
       "      <th>1</th>\n",
       "      <td>Empresa B</td>\n",
       "      <td>2000000</td>\n",
       "      <td>543678</td>\n",
       "      <td>Los Angeles</td>\n",
       "      <td>1234.0</td>\n",
       "    </tr>\n",
       "    <tr>\n",
       "      <th>2</th>\n",
       "      <td>Empresa C</td>\n",
       "      <td>1234000</td>\n",
       "      <td>235453</td>\n",
       "      <td>México</td>\n",
       "      <td>6542.0</td>\n",
       "    </tr>\n",
       "  </tbody>\n",
       "</table>\n",
       "</div>"
      ],
      "text/plain": [
       "    Empresas   Ventas  Costos        Ciudad  Piezas\n",
       "0  Empresa A  1500000  600000  Buenos Aires   500.0\n",
       "1  Empresa B  2000000  543678   Los Angeles  1234.0\n",
       "2  Empresa C  1234000  235453        México  6542.0"
      ]
     },
     "execution_count": 64,
     "metadata": {},
     "output_type": "execute_result"
    }
   ],
   "source": [
    "df.head()"
   ]
  },
  {
   "cell_type": "code",
   "execution_count": 67,
   "metadata": {},
   "outputs": [],
   "source": [
    "empresas2= {'Empresas':['Empresa E'],\n",
    "            'Ventas':[500000],\n",
    "            'Costos':[621464],\n",
    "            'Ciudad':['NY'],\n",
    "            'Piezas':[500]}"
   ]
  },
  {
   "cell_type": "code",
   "execution_count": 68,
   "metadata": {},
   "outputs": [],
   "source": [
    "df2=pd.DataFrame(empresas2)"
   ]
  },
  {
   "cell_type": "code",
   "execution_count": 70,
   "metadata": {},
   "outputs": [],
   "source": [
    "df_nueva=df.append(df2)"
   ]
  },
  {
   "cell_type": "code",
   "execution_count": 71,
   "metadata": {},
   "outputs": [
    {
     "data": {
      "text/html": [
       "<div>\n",
       "<style scoped>\n",
       "    .dataframe tbody tr th:only-of-type {\n",
       "        vertical-align: middle;\n",
       "    }\n",
       "\n",
       "    .dataframe tbody tr th {\n",
       "        vertical-align: top;\n",
       "    }\n",
       "\n",
       "    .dataframe thead th {\n",
       "        text-align: right;\n",
       "    }\n",
       "</style>\n",
       "<table border=\"1\" class=\"dataframe\">\n",
       "  <thead>\n",
       "    <tr style=\"text-align: right;\">\n",
       "      <th></th>\n",
       "      <th>Empresas</th>\n",
       "      <th>Ventas</th>\n",
       "      <th>Costos</th>\n",
       "      <th>Ciudad</th>\n",
       "      <th>Piezas</th>\n",
       "    </tr>\n",
       "  </thead>\n",
       "  <tbody>\n",
       "    <tr>\n",
       "      <th>0</th>\n",
       "      <td>Empresa A</td>\n",
       "      <td>1500000</td>\n",
       "      <td>600000</td>\n",
       "      <td>Buenos Aires</td>\n",
       "      <td>500.0</td>\n",
       "    </tr>\n",
       "    <tr>\n",
       "      <th>1</th>\n",
       "      <td>Empresa B</td>\n",
       "      <td>2000000</td>\n",
       "      <td>543678</td>\n",
       "      <td>Los Angeles</td>\n",
       "      <td>1234.0</td>\n",
       "    </tr>\n",
       "    <tr>\n",
       "      <th>2</th>\n",
       "      <td>Empresa C</td>\n",
       "      <td>1234000</td>\n",
       "      <td>235453</td>\n",
       "      <td>México</td>\n",
       "      <td>6542.0</td>\n",
       "    </tr>\n",
       "    <tr>\n",
       "      <th>0</th>\n",
       "      <td>Empresa E</td>\n",
       "      <td>500000</td>\n",
       "      <td>621464</td>\n",
       "      <td>NY</td>\n",
       "      <td>500.0</td>\n",
       "    </tr>\n",
       "  </tbody>\n",
       "</table>\n",
       "</div>"
      ],
      "text/plain": [
       "    Empresas   Ventas  Costos        Ciudad  Piezas\n",
       "0  Empresa A  1500000  600000  Buenos Aires   500.0\n",
       "1  Empresa B  2000000  543678   Los Angeles  1234.0\n",
       "2  Empresa C  1234000  235453        México  6542.0\n",
       "0  Empresa E   500000  621464            NY   500.0"
      ]
     },
     "execution_count": 71,
     "metadata": {},
     "output_type": "execute_result"
    }
   ],
   "source": [
    "df_nueva"
   ]
  },
  {
   "cell_type": "code",
   "execution_count": null,
   "metadata": {},
   "outputs": [],
   "source": []
  }
 ],
 "metadata": {
  "kernelspec": {
   "display_name": "Python 3",
   "language": "python",
   "name": "python3"
  },
  "language_info": {
   "codemirror_mode": {
    "name": "ipython",
    "version": 3
   },
   "file_extension": ".py",
   "mimetype": "text/x-python",
   "name": "python",
   "nbconvert_exporter": "python",
   "pygments_lexer": "ipython3",
   "version": "3.8.5"
  }
 },
 "nbformat": 4,
 "nbformat_minor": 4
}
