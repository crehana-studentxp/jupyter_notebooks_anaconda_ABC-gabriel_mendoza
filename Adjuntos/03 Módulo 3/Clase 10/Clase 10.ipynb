{
 "cells": [
  {
   "cell_type": "markdown",
   "metadata": {},
   "source": [
    "# Clase 10: For Loop"
   ]
  },
  {
   "cell_type": "code",
   "execution_count": 55,
   "metadata": {},
   "outputs": [],
   "source": [
    "# Iterar una lista, un diccionario, una base de datos: Ir un valor uno a uno"
   ]
  },
  {
   "cell_type": "code",
   "execution_count": 56,
   "metadata": {},
   "outputs": [],
   "source": [
    "jugadores=['Mesi','Ronaldo','Siña']"
   ]
  },
  {
   "cell_type": "code",
   "execution_count": 57,
   "metadata": {},
   "outputs": [
    {
     "data": {
      "text/plain": [
       "['Mesi', 'Ronaldo', 'Siña']"
      ]
     },
     "execution_count": 57,
     "metadata": {},
     "output_type": "execute_result"
    }
   ],
   "source": [
    "jugadores"
   ]
  },
  {
   "cell_type": "code",
   "execution_count": 58,
   "metadata": {},
   "outputs": [
    {
     "data": {
      "text/plain": [
       "list"
      ]
     },
     "execution_count": 58,
     "metadata": {},
     "output_type": "execute_result"
    }
   ],
   "source": [
    "type(jugadores)"
   ]
  },
  {
   "cell_type": "code",
   "execution_count": 59,
   "metadata": {},
   "outputs": [
    {
     "name": "stdout",
     "output_type": "stream",
     "text": [
      "Mesi\n",
      "Ronaldo\n",
      "Siña\n"
     ]
    }
   ],
   "source": [
    "for i in jugadores:\n",
    "    print(i)"
   ]
  },
  {
   "cell_type": "code",
   "execution_count": 67,
   "metadata": {},
   "outputs": [],
   "source": [
    "# Agregamos un cuarto jugador\n",
    "jugadores=['Mesi','Ronaldo','Siña','Antonio']"
   ]
  },
  {
   "cell_type": "code",
   "execution_count": 68,
   "metadata": {},
   "outputs": [
    {
     "name": "stdout",
     "output_type": "stream",
     "text": [
      "Mesi\n",
      "Ronaldo\n"
     ]
    }
   ],
   "source": [
    "# podemos pedirle que pare cuando una condición suceda\n",
    "for i in jugadores:\n",
    "    print(i)\n",
    "    if i =='Ronaldo':\n",
    "        break"
   ]
  },
  {
   "cell_type": "code",
   "execution_count": 69,
   "metadata": {},
   "outputs": [
    {
     "name": "stdout",
     "output_type": "stream",
     "text": [
      "Mesi\n",
      "Ronaldo\n",
      "Antonio\n"
     ]
    }
   ],
   "source": [
    "# si queremos que continue pero que se salte a Siña\n",
    "for i in jugadores:\n",
    "    if i =='Siña':\n",
    "        continue\n",
    "    print(i)"
   ]
  },
  {
   "cell_type": "markdown",
   "metadata": {},
   "source": [
    "### For loop en un diccionario"
   ]
  },
  {
   "cell_type": "code",
   "execution_count": 70,
   "metadata": {},
   "outputs": [],
   "source": [
    "liga_dict_f= {'Jugador':['Agos','Lebron'],\n",
    "            'Equipo':['Argentina','Lakers'],\n",
    "            'Ciudad':['Buenos Aires','Los Angeles'],\n",
    "            'PPG':[30,25]}"
   ]
  },
  {
   "cell_type": "code",
   "execution_count": 74,
   "metadata": {},
   "outputs": [
    {
     "name": "stdout",
     "output_type": "stream",
     "text": [
      "Jugador ['Agos', 'Lebron']\n",
      "Equipo ['Argentina', 'Lakers']\n",
      "Ciudad ['Buenos Aires', 'Los Angeles']\n",
      "PPG [30, 25]\n"
     ]
    }
   ],
   "source": [
    "for i,value in liga_dict_f.items():\n",
    "    print(i,value)"
   ]
  },
  {
   "cell_type": "code",
   "execution_count": null,
   "metadata": {},
   "outputs": [],
   "source": []
  }
 ],
 "metadata": {
  "kernelspec": {
   "display_name": "Python 3",
   "language": "python",
   "name": "python3"
  },
  "language_info": {
   "codemirror_mode": {
    "name": "ipython",
    "version": 3
   },
   "file_extension": ".py",
   "mimetype": "text/x-python",
   "name": "python",
   "nbconvert_exporter": "python",
   "pygments_lexer": "ipython3",
   "version": "3.8.5"
  }
 },
 "nbformat": 4,
 "nbformat_minor": 4
}
