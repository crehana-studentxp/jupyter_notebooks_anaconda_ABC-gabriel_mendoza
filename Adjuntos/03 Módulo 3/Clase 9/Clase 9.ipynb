{
 "cells": [
  {
   "cell_type": "markdown",
   "metadata": {},
   "source": [
    "# Clase 9 If"
   ]
  },
  {
   "cell_type": "code",
   "execution_count": 42,
   "metadata": {},
   "outputs": [],
   "source": [
    "# Condicionales lógicos"
   ]
  },
  {
   "cell_type": "code",
   "execution_count": 43,
   "metadata": {},
   "outputs": [],
   "source": [
    "punto_lebron=30\n",
    "punto_gabriel=27"
   ]
  },
  {
   "cell_type": "code",
   "execution_count": 44,
   "metadata": {},
   "outputs": [
    {
     "name": "stdout",
     "output_type": "stream",
     "text": [
      "Los puntos de lebron por partido son mayores que los de Gabriel\n"
     ]
    }
   ],
   "source": [
    "if punto_gabriel<punto_lebron:\n",
    "    print('Los puntos de lebron por partido son mayores que los de Gabriel')"
   ]
  },
  {
   "cell_type": "code",
   "execution_count": 45,
   "metadata": {},
   "outputs": [],
   "source": [
    "#Else\n",
    "punto_lebron=30\n",
    "punto_gabriel=37"
   ]
  },
  {
   "cell_type": "code",
   "execution_count": 46,
   "metadata": {},
   "outputs": [],
   "source": [
    "if punto_gabriel<punto_lebron:\n",
    "    print('Los puntos de lebron por partido son mayores que los de Gabriel')"
   ]
  },
  {
   "cell_type": "code",
   "execution_count": 48,
   "metadata": {},
   "outputs": [
    {
     "name": "stdout",
     "output_type": "stream",
     "text": [
      "Los puntos de Gabriel son mayores\n"
     ]
    }
   ],
   "source": [
    "if punto_gabriel<punto_lebron:\n",
    "    print('Los puntos de lebron por partido son mayores que los de Gabriel')\n",
    "else:\n",
    "    print('Los puntos de Gabriel son mayores')"
   ]
  },
  {
   "cell_type": "code",
   "execution_count": 53,
   "metadata": {},
   "outputs": [],
   "source": [
    "#and\n",
    "punto_lebron=30\n",
    "punto_gabriel=37\n",
    "rebotes_lebron=10\n",
    "rebotes_gabriel=20"
   ]
  },
  {
   "cell_type": "code",
   "execution_count": 52,
   "metadata": {},
   "outputs": [
    {
     "name": "stdout",
     "output_type": "stream",
     "text": [
      "Lebron es mejor\n"
     ]
    }
   ],
   "source": [
    "if punto_gabriel>punto_lebron & rebotes_gabriel>rebotes_lebron:\n",
    "    print('Gabriel es mejor que Lebron')\n",
    "else:\n",
    "    print('Lebron es mejor')"
   ]
  },
  {
   "cell_type": "code",
   "execution_count": 54,
   "metadata": {},
   "outputs": [],
   "source": [
    "#cambiar rebotes"
   ]
  },
  {
   "cell_type": "code",
   "execution_count": null,
   "metadata": {},
   "outputs": [],
   "source": []
  }
 ],
 "metadata": {
  "kernelspec": {
   "display_name": "Python 3",
   "language": "python",
   "name": "python3"
  },
  "language_info": {
   "codemirror_mode": {
    "name": "ipython",
    "version": 3
   },
   "file_extension": ".py",
   "mimetype": "text/x-python",
   "name": "python",
   "nbconvert_exporter": "python",
   "pygments_lexer": "ipython3",
   "version": "3.8.5"
  }
 },
 "nbformat": 4,
 "nbformat_minor": 4
}
